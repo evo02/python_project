{
 "cells": [
  {
   "cell_type": "code",
   "execution_count": 1,
   "metadata": {},
   "outputs": [],
   "source": [
    "import requests\n",
    "import json\n",
    "import pandas as pd\n",
    "import datetime\n",
    "import time\n",
    "import pandas_datareader.data as web\n",
    "from requests.adapters import HTTPAdapter, Retry\n",
    "\n",
    "pd.core.common.is_list_like = pd.api.types.is_list_like"
   ]
  },
  {
   "cell_type": "code",
   "execution_count": 2,
   "metadata": {},
   "outputs": [],
   "source": [
    "retry_strategy = Retry(\n",
    "  total=3,\n",
    "  backoff_factor=0.1,\n",
    "  status_forcelist=[ 500, 502, 503, 504 ]\n",
    ")\n",
    "\n",
    "adapter = HTTPAdapter(max_retries=retry_strategy)\n",
    "http = requests.Session()\n",
    "http.mount(\"https://\", adapter)\n",
    "http.mount(\"http://\", adapter)"
   ]
  },
  {
   "attachments": {},
   "cell_type": "markdown",
   "metadata": {},
   "source": [
    "В качестве данных буду брать дневные значения цены криптовалют (open, high, low, close)."
   ]
  },
  {
   "cell_type": "markdown",
   "metadata": {},
   "source": [
    "Вытягиваем id и названия всех монет которые есть на coinmarketcap"
   ]
  },
  {
   "cell_type": "code",
   "execution_count": 3,
   "metadata": {},
   "outputs": [],
   "source": [
    "api_url_id = 'https://api.coinmarketcap.com/data-api/v1/cryptocurrency/map'\n",
    "response = http.get(api_url_id)\n",
    "\n",
    "def get_coinmarketcap_info(url: str):\n",
    "    for item in response.json()['data']:\n",
    "        identificator = item['id']\n",
    "        name = item['name']\n",
    "        symbol = item['symbol']\n",
    "        is_active = item['is_active']\n",
    "        yield identificator, name, symbol, is_active\n",
    "cols = [\"id\", \"name\", \"symbol\", \"is_active\"]\n",
    "dataframe = (elem for elem in get_coinmarketcap_info(api_url_id))\n",
    "df_names = pd.DataFrame(dataframe, columns= cols)"
   ]
  },
  {
   "cell_type": "code",
   "execution_count": 4,
   "metadata": {},
   "outputs": [
    {
     "name": "stdout",
     "output_type": "stream",
     "text": [
      "(8938, 4)\n"
     ]
    },
    {
     "data": {
      "text/html": [
       "<div>\n",
       "<style scoped>\n",
       "    .dataframe tbody tr th:only-of-type {\n",
       "        vertical-align: middle;\n",
       "    }\n",
       "\n",
       "    .dataframe tbody tr th {\n",
       "        vertical-align: top;\n",
       "    }\n",
       "\n",
       "    .dataframe thead th {\n",
       "        text-align: right;\n",
       "    }\n",
       "</style>\n",
       "<table border=\"1\" class=\"dataframe\">\n",
       "  <thead>\n",
       "    <tr style=\"text-align: right;\">\n",
       "      <th></th>\n",
       "      <th>id</th>\n",
       "      <th>name</th>\n",
       "      <th>symbol</th>\n",
       "      <th>is_active</th>\n",
       "    </tr>\n",
       "  </thead>\n",
       "  <tbody>\n",
       "    <tr>\n",
       "      <th>0</th>\n",
       "      <td>1</td>\n",
       "      <td>Bitcoin</td>\n",
       "      <td>BTC</td>\n",
       "      <td>1</td>\n",
       "    </tr>\n",
       "    <tr>\n",
       "      <th>1</th>\n",
       "      <td>2</td>\n",
       "      <td>Litecoin</td>\n",
       "      <td>LTC</td>\n",
       "      <td>1</td>\n",
       "    </tr>\n",
       "    <tr>\n",
       "      <th>2</th>\n",
       "      <td>3</td>\n",
       "      <td>Namecoin</td>\n",
       "      <td>NMC</td>\n",
       "      <td>1</td>\n",
       "    </tr>\n",
       "    <tr>\n",
       "      <th>3</th>\n",
       "      <td>4</td>\n",
       "      <td>Terracoin</td>\n",
       "      <td>TRC</td>\n",
       "      <td>1</td>\n",
       "    </tr>\n",
       "    <tr>\n",
       "      <th>4</th>\n",
       "      <td>5</td>\n",
       "      <td>Peercoin</td>\n",
       "      <td>PPC</td>\n",
       "      <td>1</td>\n",
       "    </tr>\n",
       "  </tbody>\n",
       "</table>\n",
       "</div>"
      ],
      "text/plain": [
       "   id       name symbol  is_active\n",
       "0   1    Bitcoin    BTC          1\n",
       "1   2   Litecoin    LTC          1\n",
       "2   3   Namecoin    NMC          1\n",
       "3   4  Terracoin    TRC          1\n",
       "4   5   Peercoin    PPC          1"
      ]
     },
     "execution_count": 4,
     "metadata": {},
     "output_type": "execute_result"
    }
   ],
   "source": [
    "print(df_names.shape)\n",
    "df_names.to_csv('data/list_of_names.csv')\n",
    "df_names.head(5)"
   ]
  },
  {
   "attachments": {},
   "cell_type": "markdown",
   "metadata": {},
   "source": [
    "Идея о том чтобы пробегать по всем id для выявления топа по объему за последние сутки отпала\n",
    "\n",
    "Просто вытянем id интересных монеток"
   ]
  },
  {
   "cell_type": "code",
   "execution_count": 5,
   "metadata": {},
   "outputs": [
    {
     "name": "stdout",
     "output_type": "stream",
     "text": [
      "10\n"
     ]
    }
   ],
   "source": [
    "crypto_list = ['BTC', 'ETH', 'BNB', 'XRP', 'DOGE', 'ADA', 'MATIC', 'DAI', 'DOT', 'LTC']\n",
    "print(len(crypto_list))"
   ]
  },
  {
   "cell_type": "code",
   "execution_count": 6,
   "metadata": {},
   "outputs": [
    {
     "data": {
      "text/html": [
       "<div>\n",
       "<style scoped>\n",
       "    .dataframe tbody tr th:only-of-type {\n",
       "        vertical-align: middle;\n",
       "    }\n",
       "\n",
       "    .dataframe tbody tr th {\n",
       "        vertical-align: top;\n",
       "    }\n",
       "\n",
       "    .dataframe thead th {\n",
       "        text-align: right;\n",
       "    }\n",
       "</style>\n",
       "<table border=\"1\" class=\"dataframe\">\n",
       "  <thead>\n",
       "    <tr style=\"text-align: right;\">\n",
       "      <th></th>\n",
       "      <th>id</th>\n",
       "      <th>name</th>\n",
       "      <th>symbol</th>\n",
       "      <th>is_active</th>\n",
       "    </tr>\n",
       "  </thead>\n",
       "  <tbody>\n",
       "    <tr>\n",
       "      <th>0</th>\n",
       "      <td>1</td>\n",
       "      <td>Bitcoin</td>\n",
       "      <td>BTC</td>\n",
       "      <td>1</td>\n",
       "    </tr>\n",
       "    <tr>\n",
       "      <th>1</th>\n",
       "      <td>2</td>\n",
       "      <td>Litecoin</td>\n",
       "      <td>LTC</td>\n",
       "      <td>1</td>\n",
       "    </tr>\n",
       "    <tr>\n",
       "      <th>2</th>\n",
       "      <td>52</td>\n",
       "      <td>XRP</td>\n",
       "      <td>XRP</td>\n",
       "      <td>1</td>\n",
       "    </tr>\n",
       "    <tr>\n",
       "      <th>3</th>\n",
       "      <td>74</td>\n",
       "      <td>Dogecoin</td>\n",
       "      <td>DOGE</td>\n",
       "      <td>1</td>\n",
       "    </tr>\n",
       "    <tr>\n",
       "      <th>4</th>\n",
       "      <td>1027</td>\n",
       "      <td>Ethereum</td>\n",
       "      <td>ETH</td>\n",
       "      <td>1</td>\n",
       "    </tr>\n",
       "    <tr>\n",
       "      <th>5</th>\n",
       "      <td>1839</td>\n",
       "      <td>BNB</td>\n",
       "      <td>BNB</td>\n",
       "      <td>1</td>\n",
       "    </tr>\n",
       "    <tr>\n",
       "      <th>6</th>\n",
       "      <td>2010</td>\n",
       "      <td>Cardano</td>\n",
       "      <td>ADA</td>\n",
       "      <td>1</td>\n",
       "    </tr>\n",
       "    <tr>\n",
       "      <th>7</th>\n",
       "      <td>3890</td>\n",
       "      <td>Polygon</td>\n",
       "      <td>MATIC</td>\n",
       "      <td>1</td>\n",
       "    </tr>\n",
       "    <tr>\n",
       "      <th>8</th>\n",
       "      <td>4943</td>\n",
       "      <td>Dai</td>\n",
       "      <td>DAI</td>\n",
       "      <td>1</td>\n",
       "    </tr>\n",
       "    <tr>\n",
       "      <th>9</th>\n",
       "      <td>6636</td>\n",
       "      <td>Polkadot</td>\n",
       "      <td>DOT</td>\n",
       "      <td>1</td>\n",
       "    </tr>\n",
       "  </tbody>\n",
       "</table>\n",
       "</div>"
      ],
      "text/plain": [
       "     id      name symbol  is_active\n",
       "0     1   Bitcoin    BTC          1\n",
       "1     2  Litecoin    LTC          1\n",
       "2    52       XRP    XRP          1\n",
       "3    74  Dogecoin   DOGE          1\n",
       "4  1027  Ethereum    ETH          1\n",
       "5  1839       BNB    BNB          1\n",
       "6  2010   Cardano    ADA          1\n",
       "7  3890   Polygon  MATIC          1\n",
       "8  4943       Dai    DAI          1\n",
       "9  6636  Polkadot    DOT          1"
      ]
     },
     "execution_count": 6,
     "metadata": {},
     "output_type": "execute_result"
    }
   ],
   "source": [
    "final_list = df_names.loc[df_names['symbol'].isin(crypto_list)].reset_index(drop=True)\n",
    "final_list"
   ]
  },
  {
   "cell_type": "code",
   "execution_count": 7,
   "metadata": {},
   "outputs": [
    {
     "name": "stdout",
     "output_type": "stream",
     "text": [
      "date_now 2022-12-28 03:00:00\n",
      "unix_timestamp date_now: 1672185600\n",
      "date_start 2016-12-19 03:00:00\n"
     ]
    }
   ],
   "source": [
    "DAYS_FROM_NOW_FOR_PARSE = 2200\n",
    "\n",
    "# Дата окончания - текущий день\n",
    "tmp_date_now = datetime.date.today()\n",
    "\n",
    "# Выявлено методом тыка, что api выдает ровно 3 часа ночи\n",
    "date_now = datetime.datetime(tmp_date_now.year, tmp_date_now.month, tmp_date_now.day, 3, 0)\n",
    "\n",
    "# Дата старта\n",
    "date_start = date_now - datetime.timedelta(days=DAYS_FROM_NOW_FOR_PARSE)\n",
    "\n",
    "# Тестируем что переводит в unix время\n",
    "print(\"date_now\", date_now)\n",
    "print(\"unix_timestamp date_now:\", int(time.mktime(date_now.timetuple())))\n",
    "print(\"date_start\", date_start)\n",
    "\n",
    "unix_date_start = int(time.mktime(date_start.timetuple()))\n",
    "unix_date_now = int(time.mktime(date_now.timetuple()))"
   ]
  },
  {
   "attachments": {},
   "cell_type": "markdown",
   "metadata": {},
   "source": [
    "Возникла проблема: если вытягивать данные с общедоступного API (которым я и пользуюсь), то есть ограничение на 100 строк.\n",
    "То есть, если мы хотим тянуть самые свежие данные, то одним запросом можем вытянуть только 100 последних дней.\n",
    "Иначе интервал разбивается на одинаковые отрезки.\n",
    "\n",
    "Пробежим циклом для каждой монетки и склеим"
   ]
  },
  {
   "cell_type": "code",
   "execution_count": 8,
   "metadata": {},
   "outputs": [],
   "source": [
    "api_url_cryptocurrency = 'https://api.coinmarketcap.com/data-api/v3/cryptocurrency/historical?id=1&convertId=2781&timeStart=1420070400&timeEnd=1637712000'\n",
    "\n",
    "def unix_time(tmp: datetime.datetime) -> int:\n",
    "    return int(time.mktime(tmp.timetuple()))\n",
    "\n",
    "def get_coinmarketcap_cryptocurrency(id: int, start: int, end: int):\n",
    "    url = f'https://api.coinmarketcap.com/data-api/v3/cryptocurrency/historical?id={id}&convertId=2781&timeStart={start}&timeEnd={end}'\n",
    "    response = http.get(url)\n",
    "    data = []\n",
    "    for item in response.json()['data']['quotes']:\n",
    "        date = item['timeOpen']\n",
    "        open_ = item['quote']['open']\n",
    "        close = item['quote']['close']\n",
    "        volume =item['quote']['volume']\n",
    "        marketCap =item['quote']['marketCap']\n",
    "        date2 = item['quote']['timestamp']\n",
    "        high = item['quote']['high']\n",
    "        low = item['quote']['low']\n",
    "        data.append([date, open_, close, volume, marketCap, date2, high, low])\n",
    "    return data\n",
    "\n",
    "def get_data(names_df, start, end, max_delta=99):\n",
    "    cols = [\"timeOpen\", \"open\", \"close\", \"volume\", \"marketCap\", \"timestamp\", \"high\", \"low\"]\n",
    "    # Очень аккуратно бегаем по датам\n",
    "    # Делаем запросы по времени от start до start + 99 дней или до start + n, где n - дней до текущей даты\n",
    "    for i in range(len(names_df)):\n",
    "        df_temp = pd.DataFrame()\n",
    "        start_tmp = start\n",
    "        while True:\n",
    "            tmp_delta = max_delta\n",
    "            unix_tmp_start = unix_time(start_tmp)\n",
    "            if (end - start_tmp).days <= 0: break \n",
    "            elif (end - start_tmp).days > max_delta:\n",
    "                tmp = max_delta\n",
    "                unix_tmp_end = unix_time(start_tmp+datetime.timedelta(days=(tmp-1)))\n",
    "                df_temp = pd.concat([df_temp, pd.DataFrame(get_coinmarketcap_cryptocurrency(names_df.iloc[i][0], unix_tmp_start, unix_tmp_end), columns= cols)])\n",
    "            else:\n",
    "                tmp = (end - start_tmp).days\n",
    "                unix_tmp_end = unix_time(start_tmp+datetime.timedelta(days=(tmp)))\n",
    "                df_temp = pd.concat([df_temp, pd.DataFrame(get_coinmarketcap_cryptocurrency(names_df.iloc[i][0], unix_tmp_start, unix_tmp_end), columns= cols)])\n",
    "            start_tmp+=datetime.timedelta(days=tmp)\n",
    "        df_temp.reset_index(drop=True).to_csv(\"data/\" + names_df.iloc[i][2]+'.csv')\n",
    "        print(names_df.iloc[i][1] + ' saved!')"
   ]
  },
  {
   "cell_type": "code",
   "execution_count": 9,
   "metadata": {},
   "outputs": [
    {
     "name": "stdout",
     "output_type": "stream",
     "text": [
      "Bitcoin saved!\n",
      "Litecoin saved!\n",
      "XRP saved!\n",
      "Dogecoin saved!\n",
      "Ethereum saved!\n",
      "BNB saved!\n",
      "Cardano saved!\n",
      "Polygon saved!\n",
      "Dai saved!\n",
      "Polkadot saved!\n"
     ]
    }
   ],
   "source": [
    "get_data(final_list, date_start, date_now)"
   ]
  },
  {
   "attachments": {},
   "cell_type": "markdown",
   "metadata": {},
   "source": [
    "Протестировал метод для парсинга 6 последних лет - все ок\n",
    "\n",
    "\n",
    "Один из вариантов развития: \n",
    "    \n",
    "1. Пытаемся открыть файл: если его не существует то парсим с начальной даты\n",
    "2. Если открылся, то по последней строке смотрим последнюю дату. Если она меньше текущей, то дозаписываем файл.\n",
    "3. Обновляем графики\n",
    "\n",
    "По технической части: переезжаем на httpx"
   ]
  }
 ],
 "metadata": {
  "kernelspec": {
   "display_name": "Python 3.10.8 64-bit",
   "language": "python",
   "name": "python3"
  },
  "language_info": {
   "codemirror_mode": {
    "name": "ipython",
    "version": 3
   },
   "file_extension": ".py",
   "mimetype": "text/x-python",
   "name": "python",
   "nbconvert_exporter": "python",
   "pygments_lexer": "ipython3",
   "version": "3.10.8"
  },
  "orig_nbformat": 4,
  "vscode": {
   "interpreter": {
    "hash": "bf70c2be34cefc8925ac37ac24c67051bedf097ccd73ad491733282b57292c88"
   }
  }
 },
 "nbformat": 4,
 "nbformat_minor": 2
}
